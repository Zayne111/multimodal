{
 "cells": [
  {
   "cell_type": "markdown",
   "id": "fdc899ab-ad81-4a7e-af1e-c66723ac0e24",
   "metadata": {},
   "source": [
    "export PYTHONPATH=/root/1:$PYTHONPATH "
   ]
  },
  {
   "cell_type": "markdown",
   "id": "0ccfa109-857d-4065-903e-7b097f739d02",
   "metadata": {},
   "source": [
    "torchrun --nproc_per_node=1 /root/1/train.py --cfg /root/1/configs/mcubes.yaml"
   ]
  },
  {
   "cell_type": "code",
   "execution_count": null,
   "id": "0be5184d-d6d1-459f-8ecf-96b2e861388c",
   "metadata": {},
   "outputs": [],
   "source": []
  }
 ],
 "metadata": {
  "kernelspec": {
   "display_name": "Python 3 (ipykernel)",
   "language": "python",
   "name": "python3"
  },
  "language_info": {
   "codemirror_mode": {
    "name": "ipython",
    "version": 3
   },
   "file_extension": ".py",
   "mimetype": "text/x-python",
   "name": "python",
   "nbconvert_exporter": "python",
   "pygments_lexer": "ipython3",
   "version": "3.10.8"
  }
 },
 "nbformat": 4,
 "nbformat_minor": 5
}
